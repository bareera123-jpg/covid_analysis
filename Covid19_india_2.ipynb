{
 "cells": [
  {
   "cell_type": "code",
   "execution_count": 1,
   "id": "4760f692",
   "metadata": {},
   "outputs": [],
   "source": [
    "import numpy as np\n",
    "import pandas as pd"
   ]
  },
  {
   "cell_type": "code",
   "execution_count": 2,
   "id": "6d27510e",
   "metadata": {},
   "outputs": [
    {
     "name": "stderr",
     "output_type": "stream",
     "text": [
      "C:\\Users\\Bareera\\anaconda3\\lib\\site-packages\\IPython\\core\\interactiveshell.py:3165: DtypeWarning: Columns (3) have mixed types.Specify dtype option on import or set low_memory=False.\n",
      "  has_raised = await self.run_ast_nodes(code_ast.body, cell_name,\n"
     ]
    },
    {
     "data": {
      "text/html": [
       "<div>\n",
       "<style scoped>\n",
       "    .dataframe tbody tr th:only-of-type {\n",
       "        vertical-align: middle;\n",
       "    }\n",
       "\n",
       "    .dataframe tbody tr th {\n",
       "        vertical-align: top;\n",
       "    }\n",
       "\n",
       "    .dataframe thead th {\n",
       "        text-align: right;\n",
       "    }\n",
       "</style>\n",
       "<table border=\"1\" class=\"dataframe\">\n",
       "  <thead>\n",
       "    <tr style=\"text-align: right;\">\n",
       "      <th></th>\n",
       "      <th>Unnamed: 0</th>\n",
       "      <th>Num Cases</th>\n",
       "      <th>Date Announced</th>\n",
       "      <th>Age Bracket</th>\n",
       "      <th>Gender</th>\n",
       "      <th>Detected City</th>\n",
       "      <th>Detected District</th>\n",
       "      <th>Detected State</th>\n",
       "      <th>State code</th>\n",
       "      <th>Current Status</th>\n",
       "      <th>Date</th>\n",
       "      <th>Month</th>\n",
       "      <th>Year</th>\n",
       "    </tr>\n",
       "  </thead>\n",
       "  <tbody>\n",
       "    <tr>\n",
       "      <th>0</th>\n",
       "      <td>0</td>\n",
       "      <td>1.0</td>\n",
       "      <td>30/01/2020</td>\n",
       "      <td>20</td>\n",
       "      <td>F</td>\n",
       "      <td>Thrissur</td>\n",
       "      <td>Thrissur</td>\n",
       "      <td>Kerala</td>\n",
       "      <td>KL</td>\n",
       "      <td>Recovered</td>\n",
       "      <td>30</td>\n",
       "      <td>1</td>\n",
       "      <td>2020</td>\n",
       "    </tr>\n",
       "    <tr>\n",
       "      <th>1</th>\n",
       "      <td>1</td>\n",
       "      <td>1.0</td>\n",
       "      <td>02/02/2020</td>\n",
       "      <td>NaN</td>\n",
       "      <td>NaN</td>\n",
       "      <td>Alappuzha</td>\n",
       "      <td>Alappuzha</td>\n",
       "      <td>Kerala</td>\n",
       "      <td>KL</td>\n",
       "      <td>Recovered</td>\n",
       "      <td>2</td>\n",
       "      <td>2</td>\n",
       "      <td>2020</td>\n",
       "    </tr>\n",
       "    <tr>\n",
       "      <th>2</th>\n",
       "      <td>2</td>\n",
       "      <td>1.0</td>\n",
       "      <td>03/02/2020</td>\n",
       "      <td>NaN</td>\n",
       "      <td>NaN</td>\n",
       "      <td>Kasaragod</td>\n",
       "      <td>Kasaragod</td>\n",
       "      <td>Kerala</td>\n",
       "      <td>KL</td>\n",
       "      <td>Recovered</td>\n",
       "      <td>3</td>\n",
       "      <td>2</td>\n",
       "      <td>2020</td>\n",
       "    </tr>\n",
       "    <tr>\n",
       "      <th>3</th>\n",
       "      <td>3</td>\n",
       "      <td>1.0</td>\n",
       "      <td>02/03/2020</td>\n",
       "      <td>45</td>\n",
       "      <td>M</td>\n",
       "      <td>East Delhi (Mayur Vihar)</td>\n",
       "      <td>East Delhi</td>\n",
       "      <td>Delhi</td>\n",
       "      <td>DL</td>\n",
       "      <td>Recovered</td>\n",
       "      <td>2</td>\n",
       "      <td>3</td>\n",
       "      <td>2020</td>\n",
       "    </tr>\n",
       "    <tr>\n",
       "      <th>4</th>\n",
       "      <td>4</td>\n",
       "      <td>1.0</td>\n",
       "      <td>02/03/2020</td>\n",
       "      <td>24</td>\n",
       "      <td>M</td>\n",
       "      <td>Hyderabad</td>\n",
       "      <td>Hyderabad</td>\n",
       "      <td>Telangana</td>\n",
       "      <td>TG</td>\n",
       "      <td>Recovered</td>\n",
       "      <td>2</td>\n",
       "      <td>3</td>\n",
       "      <td>2020</td>\n",
       "    </tr>\n",
       "  </tbody>\n",
       "</table>\n",
       "</div>"
      ],
      "text/plain": [
       "   Unnamed: 0  Num Cases Date Announced Age Bracket Gender  \\\n",
       "0           0        1.0     30/01/2020          20      F   \n",
       "1           1        1.0     02/02/2020         NaN    NaN   \n",
       "2           2        1.0     03/02/2020         NaN    NaN   \n",
       "3           3        1.0     02/03/2020          45      M   \n",
       "4           4        1.0     02/03/2020          24      M   \n",
       "\n",
       "              Detected City Detected District Detected State State code  \\\n",
       "0                  Thrissur          Thrissur         Kerala         KL   \n",
       "1                 Alappuzha         Alappuzha         Kerala         KL   \n",
       "2                 Kasaragod         Kasaragod         Kerala         KL   \n",
       "3  East Delhi (Mayur Vihar)        East Delhi          Delhi         DL   \n",
       "4                 Hyderabad         Hyderabad      Telangana         TG   \n",
       "\n",
       "  Current Status  Date  Month  Year  \n",
       "0      Recovered    30      1  2020  \n",
       "1      Recovered     2      2  2020  \n",
       "2      Recovered     3      2  2020  \n",
       "3      Recovered     2      3  2020  \n",
       "4      Recovered     2      3  2020  "
      ]
     },
     "execution_count": 2,
     "metadata": {},
     "output_type": "execute_result"
    }
   ],
   "source": [
    "df = pd.read_csv(\"Covid19india.csv\")\n",
    "df.head()"
   ]
  },
  {
   "cell_type": "code",
   "execution_count": 3,
   "id": "4b7e0e48",
   "metadata": {},
   "outputs": [
    {
     "data": {
      "text/html": [
       "<div>\n",
       "<style scoped>\n",
       "    .dataframe tbody tr th:only-of-type {\n",
       "        vertical-align: middle;\n",
       "    }\n",
       "\n",
       "    .dataframe tbody tr th {\n",
       "        vertical-align: top;\n",
       "    }\n",
       "\n",
       "    .dataframe thead th {\n",
       "        text-align: right;\n",
       "    }\n",
       "</style>\n",
       "<table border=\"1\" class=\"dataframe\">\n",
       "  <thead>\n",
       "    <tr style=\"text-align: right;\">\n",
       "      <th></th>\n",
       "      <th>Num Cases</th>\n",
       "      <th>Date Announced</th>\n",
       "      <th>Age Bracket</th>\n",
       "      <th>Gender</th>\n",
       "      <th>Detected City</th>\n",
       "      <th>Detected District</th>\n",
       "      <th>Detected State</th>\n",
       "      <th>State code</th>\n",
       "      <th>Current Status</th>\n",
       "      <th>Date</th>\n",
       "      <th>Month</th>\n",
       "      <th>Year</th>\n",
       "    </tr>\n",
       "  </thead>\n",
       "  <tbody>\n",
       "    <tr>\n",
       "      <th>0</th>\n",
       "      <td>1.0</td>\n",
       "      <td>30/01/2020</td>\n",
       "      <td>20</td>\n",
       "      <td>F</td>\n",
       "      <td>Thrissur</td>\n",
       "      <td>Thrissur</td>\n",
       "      <td>Kerala</td>\n",
       "      <td>KL</td>\n",
       "      <td>Recovered</td>\n",
       "      <td>30</td>\n",
       "      <td>1</td>\n",
       "      <td>2020</td>\n",
       "    </tr>\n",
       "    <tr>\n",
       "      <th>1</th>\n",
       "      <td>1.0</td>\n",
       "      <td>02/02/2020</td>\n",
       "      <td>NaN</td>\n",
       "      <td>NaN</td>\n",
       "      <td>Alappuzha</td>\n",
       "      <td>Alappuzha</td>\n",
       "      <td>Kerala</td>\n",
       "      <td>KL</td>\n",
       "      <td>Recovered</td>\n",
       "      <td>2</td>\n",
       "      <td>2</td>\n",
       "      <td>2020</td>\n",
       "    </tr>\n",
       "  </tbody>\n",
       "</table>\n",
       "</div>"
      ],
      "text/plain": [
       "   Num Cases Date Announced Age Bracket Gender Detected City  \\\n",
       "0        1.0     30/01/2020          20      F      Thrissur   \n",
       "1        1.0     02/02/2020         NaN    NaN     Alappuzha   \n",
       "\n",
       "  Detected District Detected State State code Current Status  Date  Month  \\\n",
       "0          Thrissur         Kerala         KL      Recovered    30      1   \n",
       "1         Alappuzha         Kerala         KL      Recovered     2      2   \n",
       "\n",
       "   Year  \n",
       "0  2020  \n",
       "1  2020  "
      ]
     },
     "execution_count": 3,
     "metadata": {},
     "output_type": "execute_result"
    }
   ],
   "source": [
    "df = df.iloc[:,1:]\n",
    "df.head(2)"
   ]
  },
  {
   "cell_type": "markdown",
   "id": "9ca7105d",
   "metadata": {},
   "source": [
    "## inspect null values in each columns "
   ]
  },
  {
   "cell_type": "code",
   "execution_count": 4,
   "id": "e4cb4ed2",
   "metadata": {},
   "outputs": [
    {
     "data": {
      "text/plain": [
       "Detected City        92.492921\n",
       "Age Bracket          58.852649\n",
       "Gender               56.936283\n",
       "Detected District     5.758010\n",
       "Detected State        0.006171\n",
       "State code            0.006171\n",
       "Num Cases             0.002057\n",
       "Current Status        0.001371\n",
       "Date Announced        0.000000\n",
       "Date                  0.000000\n",
       "Month                 0.000000\n",
       "Year                  0.000000\n",
       "dtype: float64"
      ]
     },
     "execution_count": 4,
     "metadata": {},
     "output_type": "execute_result"
    }
   ],
   "source": [
    "df.isnull().sum().sort_values(ascending = False)/len(df)*100"
   ]
  },
  {
   "cell_type": "code",
   "execution_count": 5,
   "id": "180d293e",
   "metadata": {},
   "outputs": [
    {
     "data": {
      "text/plain": [
       "Index(['Num Cases', 'Date Announced', 'Age Bracket', 'Gender', 'Detected City',\n",
       "       'Detected District', 'Detected State', 'State code', 'Current Status',\n",
       "       'Date', 'Month', 'Year'],\n",
       "      dtype='object')"
      ]
     },
     "execution_count": 5,
     "metadata": {},
     "output_type": "execute_result"
    }
   ],
   "source": [
    "df.columns"
   ]
  },
  {
   "cell_type": "code",
   "execution_count": 6,
   "id": "1cd9c3ec",
   "metadata": {},
   "outputs": [
    {
     "data": {
      "text/plain": [
       "Month\n",
       "1         1.0\n",
       "2         2.0\n",
       "3      1635.0\n",
       "4     36078.0\n",
       "5    242853.0\n",
       "6    663178.0\n",
       "7    270185.0\n",
       "Name: Num Cases, dtype: float64"
      ]
     },
     "execution_count": 6,
     "metadata": {},
     "output_type": "execute_result"
    }
   ],
   "source": [
    "df.groupby(\"Month\")['Num Cases'].sum()"
   ]
  },
  {
   "cell_type": "code",
   "execution_count": 7,
   "id": "85a5c6f3",
   "metadata": {},
   "outputs": [
    {
     "data": {
      "text/plain": [
       "Month\n",
       "3      1431.0\n",
       "4     33209.0\n",
       "5    155781.0\n",
       "6    395144.0\n",
       "7    157701.0\n",
       "Name: Num Cases, dtype: float64"
      ]
     },
     "execution_count": 7,
     "metadata": {},
     "output_type": "execute_result"
    }
   ],
   "source": [
    "M = df[df['Current Status'] == \"Hospitalized\"].groupby(\"Month\")['Num Cases'].sum()\n",
    "M"
   ]
  },
  {
   "cell_type": "code",
   "execution_count": 8,
   "id": "28ea647c",
   "metadata": {},
   "outputs": [],
   "source": [
    "import matplotlib.pyplot as plt"
   ]
  },
  {
   "cell_type": "code",
   "execution_count": 9,
   "id": "6295170d",
   "metadata": {},
   "outputs": [
    {
     "data": {
      "image/png": "[encoded data removed]",
      "text/plain": [
       "<Figure size 432x288 with 1 Axes>"
      ]
     },
     "metadata": {
      "needs_background": "light"
     },
     "output_type": "display_data"
    }
   ],
   "source": [
    "M.plot.bar()\n",
    "plt.show()"
   ]
  },
  {
   "cell_type": "code",
   "execution_count": 10,
   "id": "e0d53910",
   "metadata": {},
   "outputs": [
    {
     "data": {
      "text/plain": [
       "Index(['Num Cases', 'Date Announced', 'Age Bracket', 'Gender', 'Detected City',\n",
       "       'Detected District', 'Detected State', 'State code', 'Current Status',\n",
       "       'Date', 'Month', 'Year'],\n",
       "      dtype='object')"
      ]
     },
     "execution_count": 10,
     "metadata": {},
     "output_type": "execute_result"
    }
   ],
   "source": [
    "df.columns"
   ]
  },
  {
   "cell_type": "markdown",
   "id": "f9981d1e",
   "metadata": {},
   "source": [
    "### total male/female infected with covid"
   ]
  },
  {
   "cell_type": "code",
   "execution_count": 11,
   "id": "7da0c04c",
   "metadata": {},
   "outputs": [
    {
     "data": {
      "text/plain": [
       "Gender\n",
       "F             21294.0\n",
       "M             42795.0\n",
       "M                 1.0\n",
       "Non-Binary       12.0\n",
       "Name: Num Cases, dtype: float64"
      ]
     },
     "execution_count": 11,
     "metadata": {},
     "output_type": "execute_result"
    }
   ],
   "source": [
    "df.groupby('Gender')[\"Num Cases\"].sum()"
   ]
  },
  {
   "cell_type": "markdown",
   "id": "6f670150",
   "metadata": {},
   "source": [
    "### what age group is infected the most?"
   ]
  },
  {
   "cell_type": "code",
   "execution_count": 12,
   "id": "555e30c8",
   "metadata": {},
   "outputs": [
    {
     "data": {
      "text/plain": [
       "Age Bracket\n",
       "30.0       1209.0\n",
       "40.0       1027.0\n",
       "25.0       1015.0\n",
       "35.0        992.0\n",
       "32.0        936.0\n",
       "            ...  \n",
       "97.0          1.0\n",
       "96.0          1.0\n",
       "95.0          1.0\n",
       "9 Month       1.0\n",
       "99.0          1.0\n",
       "Name: Num Cases, Length: 325, dtype: float64"
      ]
     },
     "execution_count": 12,
     "metadata": {},
     "output_type": "execute_result"
    }
   ],
   "source": [
    "R = df.groupby(\"Age Bracket\")[\"Num Cases\"].sum().sort_values(ascending = False)\n",
    "R"
   ]
  },
  {
   "cell_type": "code",
   "execution_count": 31,
   "id": "ebe4a000",
   "metadata": {},
   "outputs": [
    {
     "data": {
      "image/png": "[encoded data removed]",
      "text/plain": [
       "<Figure size 1080x360 with 1 Axes>"
      ]
     },
     "metadata": {
      "needs_background": "light"
     },
     "output_type": "display_data"
    }
   ],
   "source": [
    "R.plot.bar(figsize = (15,5))\n",
    "plt.show()\n"
   ]
  },
  {
   "cell_type": "code",
   "execution_count": 14,
   "id": "a91413e3",
   "metadata": {},
   "outputs": [
    {
     "data": {
      "text/plain": [
       "Index(['Num Cases', 'Date Announced', 'Age Bracket', 'Gender', 'Detected City',\n",
       "       'Detected District', 'Detected State', 'State code', 'Current Status',\n",
       "       'Date', 'Month', 'Year'],\n",
       "      dtype='object')"
      ]
     },
     "execution_count": 14,
     "metadata": {},
     "output_type": "execute_result"
    }
   ],
   "source": [
    "df.columns"
   ]
  },
  {
   "cell_type": "code",
   "execution_count": 15,
   "id": "b5451b20",
   "metadata": {},
   "outputs": [
    {
     "data": {
      "text/plain": [
       "Detected State\n",
       "Maharashtra                                 217107.0\n",
       "Tamil Nadu                                  118587.0\n",
       "Delhi                                       102827.0\n",
       "Gujarat                                      37631.0\n",
       "Uttar Pradesh                                29959.0\n",
       "Telangana                                    27610.0\n",
       "Karnataka                                    26743.0\n",
       "West Bengal                                  23831.0\n",
       "Rajasthan                                    21400.0\n",
       "Andhra Pradesh                               21195.0\n",
       "Haryana                                      17987.0\n",
       "Madhya Pradesh                               15625.0\n",
       "Assam                                        13337.0\n",
       "Bihar                                        12524.0\n",
       "Odisha                                       10096.0\n",
       "Jammu and Kashmir                             8930.0\n",
       "Punjab                                        6747.0\n",
       "Kerala                                        5834.0\n",
       "State Unassigned                              5034.0\n",
       "Chhattisgarh                                  3407.0\n",
       "Uttarakhand                                   3229.0\n",
       "Jharkhand                                     3018.0\n",
       "Goa                                           1903.0\n",
       "Tripura                                       1716.0\n",
       "Manipur                                       1429.0\n",
       "Himachal Pradesh                              1081.0\n",
       "Puducherry                                    1043.0\n",
       "Ladakh                                        1041.0\n",
       "Nagaland                                       644.0\n",
       "Chandigarh                                     492.0\n",
       "Dadra and Nagar Haveli and Daman and Diu       427.0\n",
       "Arunachal Pradesh                              276.0\n",
       "Mizoram                                        198.0\n",
       "Andaman and Nicobar Islands                    136.0\n",
       "Sikkim                                         127.0\n",
       "Meghalaya                                       94.0\n",
       "Name: Num Cases, dtype: float64"
      ]
     },
     "execution_count": 15,
     "metadata": {},
     "output_type": "execute_result"
    }
   ],
   "source": [
    "statewise = df[df['Current Status']==\"Hospitalized\"].groupby('Detected State')['Num Cases'].sum().sort_values(ascending = False)\n",
    "statewise"
   ]
  },
  {
   "cell_type": "code",
   "execution_count": 16,
   "id": "f658317d",
   "metadata": {},
   "outputs": [
    {
     "data": {
      "image/png": "[encoded data removed]",
      "text/plain": [
       "<Figure size 432x288 with 1 Axes>"
      ]
     },
     "metadata": {
      "needs_background": "light"
     },
     "output_type": "display_data"
    }
   ],
   "source": [
    "statewise.plot.bar()\n",
    "plt.show()"
   ]
  },
  {
   "cell_type": "code",
   "execution_count": 17,
   "id": "1b1a0e30",
   "metadata": {},
   "outputs": [
    {
     "data": {
      "text/plain": [
       "Index(['Num Cases', 'Date Announced', 'Age Bracket', 'Gender', 'Detected City',\n",
       "       'Detected District', 'Detected State', 'State code', 'Current Status',\n",
       "       'Date', 'Month', 'Year'],\n",
       "      dtype='object')"
      ]
     },
     "execution_count": 17,
     "metadata": {},
     "output_type": "execute_result"
    }
   ],
   "source": [
    "df.columns"
   ]
  },
  {
   "cell_type": "code",
   "execution_count": 20,
   "id": "f37f94ff",
   "metadata": {},
   "outputs": [
    {
     "data": {
      "text/html": [
       "<div>\n",
       "<style scoped>\n",
       "    .dataframe tbody tr th:only-of-type {\n",
       "        vertical-align: middle;\n",
       "    }\n",
       "\n",
       "    .dataframe tbody tr th {\n",
       "        vertical-align: top;\n",
       "    }\n",
       "\n",
       "    .dataframe thead th {\n",
       "        text-align: right;\n",
       "    }\n",
       "</style>\n",
       "<table border=\"1\" class=\"dataframe\">\n",
       "  <thead>\n",
       "    <tr style=\"text-align: right;\">\n",
       "      <th></th>\n",
       "      <th>Num Cases</th>\n",
       "      <th>Date Announced</th>\n",
       "      <th>Age Bracket</th>\n",
       "      <th>Gender</th>\n",
       "      <th>Detected City</th>\n",
       "      <th>Detected District</th>\n",
       "      <th>Detected State</th>\n",
       "      <th>State code</th>\n",
       "      <th>Current Status</th>\n",
       "      <th>Date</th>\n",
       "      <th>Month</th>\n",
       "      <th>Year</th>\n",
       "    </tr>\n",
       "  </thead>\n",
       "  <tbody>\n",
       "    <tr>\n",
       "      <th>0</th>\n",
       "      <td>1.0</td>\n",
       "      <td>30/01/2020</td>\n",
       "      <td>20</td>\n",
       "      <td>F</td>\n",
       "      <td>Thrissur</td>\n",
       "      <td>Thrissur</td>\n",
       "      <td>Kerala</td>\n",
       "      <td>KL</td>\n",
       "      <td>Recovered</td>\n",
       "      <td>30</td>\n",
       "      <td>1</td>\n",
       "      <td>2020</td>\n",
       "    </tr>\n",
       "    <tr>\n",
       "      <th>1</th>\n",
       "      <td>1.0</td>\n",
       "      <td>02/02/2020</td>\n",
       "      <td>NaN</td>\n",
       "      <td>NaN</td>\n",
       "      <td>Alappuzha</td>\n",
       "      <td>Alappuzha</td>\n",
       "      <td>Kerala</td>\n",
       "      <td>KL</td>\n",
       "      <td>Recovered</td>\n",
       "      <td>2</td>\n",
       "      <td>2</td>\n",
       "      <td>2020</td>\n",
       "    </tr>\n",
       "    <tr>\n",
       "      <th>2</th>\n",
       "      <td>1.0</td>\n",
       "      <td>03/02/2020</td>\n",
       "      <td>NaN</td>\n",
       "      <td>NaN</td>\n",
       "      <td>Kasaragod</td>\n",
       "      <td>Kasaragod</td>\n",
       "      <td>Kerala</td>\n",
       "      <td>KL</td>\n",
       "      <td>Recovered</td>\n",
       "      <td>3</td>\n",
       "      <td>2</td>\n",
       "      <td>2020</td>\n",
       "    </tr>\n",
       "    <tr>\n",
       "      <th>3</th>\n",
       "      <td>1.0</td>\n",
       "      <td>02/03/2020</td>\n",
       "      <td>45</td>\n",
       "      <td>M</td>\n",
       "      <td>East Delhi (Mayur Vihar)</td>\n",
       "      <td>East Delhi</td>\n",
       "      <td>Delhi</td>\n",
       "      <td>DL</td>\n",
       "      <td>Recovered</td>\n",
       "      <td>2</td>\n",
       "      <td>3</td>\n",
       "      <td>2020</td>\n",
       "    </tr>\n",
       "    <tr>\n",
       "      <th>4</th>\n",
       "      <td>1.0</td>\n",
       "      <td>02/03/2020</td>\n",
       "      <td>24</td>\n",
       "      <td>M</td>\n",
       "      <td>Hyderabad</td>\n",
       "      <td>Hyderabad</td>\n",
       "      <td>Telangana</td>\n",
       "      <td>TG</td>\n",
       "      <td>Recovered</td>\n",
       "      <td>2</td>\n",
       "      <td>3</td>\n",
       "      <td>2020</td>\n",
       "    </tr>\n",
       "  </tbody>\n",
       "</table>\n",
       "</div>"
      ],
      "text/plain": [
       "   Num Cases Date Announced Age Bracket Gender             Detected City  \\\n",
       "0        1.0     30/01/2020          20      F                  Thrissur   \n",
       "1        1.0     02/02/2020         NaN    NaN                 Alappuzha   \n",
       "2        1.0     03/02/2020         NaN    NaN                 Kasaragod   \n",
       "3        1.0     02/03/2020          45      M  East Delhi (Mayur Vihar)   \n",
       "4        1.0     02/03/2020          24      M                 Hyderabad   \n",
       "\n",
       "  Detected District Detected State State code Current Status  Date  Month  \\\n",
       "0          Thrissur         Kerala         KL      Recovered    30      1   \n",
       "1         Alappuzha         Kerala         KL      Recovered     2      2   \n",
       "2         Kasaragod         Kerala         KL      Recovered     3      2   \n",
       "3        East Delhi          Delhi         DL      Recovered     2      3   \n",
       "4         Hyderabad      Telangana         TG      Recovered     2      3   \n",
       "\n",
       "   Year  \n",
       "0  2020  \n",
       "1  2020  \n",
       "2  2020  \n",
       "3  2020  \n",
       "4  2020  "
      ]
     },
     "execution_count": 20,
     "metadata": {},
     "output_type": "execute_result"
    }
   ],
   "source": [
    "df.head()"
   ]
  },
  {
   "cell_type": "code",
   "execution_count": 23,
   "id": "091f5c75",
   "metadata": {},
   "outputs": [
    {
     "data": {
      "text/html": [
       "<div>\n",
       "<style scoped>\n",
       "    .dataframe tbody tr th:only-of-type {\n",
       "        vertical-align: middle;\n",
       "    }\n",
       "\n",
       "    .dataframe tbody tr th {\n",
       "        vertical-align: top;\n",
       "    }\n",
       "\n",
       "    .dataframe thead th {\n",
       "        text-align: right;\n",
       "    }\n",
       "</style>\n",
       "<table border=\"1\" class=\"dataframe\">\n",
       "  <thead>\n",
       "    <tr style=\"text-align: right;\">\n",
       "      <th></th>\n",
       "      <th></th>\n",
       "      <th>Num Cases</th>\n",
       "    </tr>\n",
       "    <tr>\n",
       "      <th>Month</th>\n",
       "      <th>Date</th>\n",
       "      <th></th>\n",
       "    </tr>\n",
       "  </thead>\n",
       "  <tbody>\n",
       "    <tr>\n",
       "      <th rowspan=\"5\" valign=\"top\">3</th>\n",
       "      <th>4</th>\n",
       "      <td>5.0</td>\n",
       "    </tr>\n",
       "    <tr>\n",
       "      <th>5</th>\n",
       "      <td>1.0</td>\n",
       "    </tr>\n",
       "    <tr>\n",
       "      <th>7</th>\n",
       "      <td>2.0</td>\n",
       "    </tr>\n",
       "    <tr>\n",
       "      <th>9</th>\n",
       "      <td>4.0</td>\n",
       "    </tr>\n",
       "    <tr>\n",
       "      <th>10</th>\n",
       "      <td>4.0</td>\n",
       "    </tr>\n",
       "    <tr>\n",
       "      <th>...</th>\n",
       "      <th>...</th>\n",
       "      <td>...</td>\n",
       "    </tr>\n",
       "    <tr>\n",
       "      <th rowspan=\"5\" valign=\"top\">7</th>\n",
       "      <th>3</th>\n",
       "      <td>22718.0</td>\n",
       "    </tr>\n",
       "    <tr>\n",
       "      <th>4</th>\n",
       "      <td>24018.0</td>\n",
       "    </tr>\n",
       "    <tr>\n",
       "      <th>5</th>\n",
       "      <td>23942.0</td>\n",
       "    </tr>\n",
       "    <tr>\n",
       "      <th>6</th>\n",
       "      <td>22500.0</td>\n",
       "    </tr>\n",
       "    <tr>\n",
       "      <th>7</th>\n",
       "      <td>23147.0</td>\n",
       "    </tr>\n",
       "  </tbody>\n",
       "</table>\n",
       "<p>124 rows × 1 columns</p>\n",
       "</div>"
      ],
      "text/plain": [
       "            Num Cases\n",
       "Month Date           \n",
       "3     4           5.0\n",
       "      5           1.0\n",
       "      7           2.0\n",
       "      9           4.0\n",
       "      10          4.0\n",
       "...               ...\n",
       "7     3       22718.0\n",
       "      4       24018.0\n",
       "      5       23942.0\n",
       "      6       22500.0\n",
       "      7       23147.0\n",
       "\n",
       "[124 rows x 1 columns]"
      ]
     },
     "execution_count": 23,
     "metadata": {},
     "output_type": "execute_result"
    }
   ],
   "source": [
    "day = df[df['Current Status']==\"Hospitalized\"].groupby(['Month','Date'])[['Num Cases']].sum()\n",
    "day"
   ]
  },
  {
   "cell_type": "code",
   "execution_count": 24,
   "id": "236e3238",
   "metadata": {},
   "outputs": [
    {
     "data": {
      "image/png": "[encoded data removed]",
      "text/plain": [
       "<Figure size 720x720 with 5 Axes>"
      ]
     },
     "metadata": {
      "needs_background": "light"
     },
     "output_type": "display_data"
    }
   ],
   "source": [
    "day.unstack(level = 0).plot(kind = 'bar',subplots = True,figsize =(10,10))\n",
    "plt.show()"
   ]
  },
  {
   "cell_type": "code",
   "execution_count": 25,
   "id": "6eedf7e9",
   "metadata": {},
   "outputs": [
    {
     "data": {
      "text/plain": [
       "array(['Recovered', 'Hospitalized', 'Deceased', 'Migrated',\n",
       "       'Migrated_Other', nan, 'Migrated_other'], dtype=object)"
      ]
     },
     "execution_count": 25,
     "metadata": {},
     "output_type": "execute_result"
    }
   ],
   "source": [
    "df[\"Current Status\"].unique()"
   ]
  },
  {
   "cell_type": "code",
   "execution_count": 26,
   "id": "4d02428b",
   "metadata": {},
   "outputs": [
    {
     "data": {
      "text/plain": [
       "19817.0"
      ]
     },
     "execution_count": 26,
     "metadata": {},
     "output_type": "execute_result"
    }
   ],
   "source": [
    "df[df[\"Current Status\"]=='Deceased'][\"Num Cases\"].sum()"
   ]
  },
  {
   "cell_type": "code",
   "execution_count": 27,
   "id": "6e5e7630",
   "metadata": {},
   "outputs": [
    {
     "data": {
      "text/plain": [
       "Detected State\n",
       "Maharashtra                                 8919.0\n",
       "Delhi                                       3112.0\n",
       "Gujarat                                     1831.0\n",
       "Tamil Nadu                                  1613.0\n",
       "Uttar Pradesh                                798.0\n",
       "West Bengal                                  787.0\n",
       "Madhya Pradesh                               521.0\n",
       "Rajasthan                                    432.0\n",
       "Karnataka                                    409.0\n",
       "Telangana                                    289.0\n",
       "Haryana                                      276.0\n",
       "Andhra Pradesh                               221.0\n",
       "Punjab                                       159.0\n",
       "Jammu and Kashmir                            138.0\n",
       "Bihar                                         97.0\n",
       "Odisha                                        54.0\n",
       "Uttarakhand                                   43.0\n",
       "Kerala                                        27.0\n",
       "Jharkhand                                     19.0\n",
       "Assam                                         15.0\n",
       "Chhattisgarh                                  14.0\n",
       "Puducherry                                    14.0\n",
       "Himachal Pradesh                               9.0\n",
       "Goa                                            8.0\n",
       "Chandigarh                                     7.0\n",
       "Arunachal Pradesh                              2.0\n",
       "Ladakh                                         1.0\n",
       "Dadra and Nagar Haveli and Daman and Diu       1.0\n",
       "Tripura                                        1.0\n",
       "Name: Num Cases, dtype: float64"
      ]
     },
     "execution_count": 27,
     "metadata": {},
     "output_type": "execute_result"
    }
   ],
   "source": [
    "df[df[\"Current Status\"]=='Deceased'].groupby(\"Detected State\")[\"Num Cases\"].sum().sort_values(ascending = False)"
   ]
  },
  {
   "cell_type": "code",
   "execution_count": null,
   "id": "d6c7da7f",
   "metadata": {},
   "outputs": [],
   "source": []
  }
 ],
 "metadata": {
  "kernelspec": {
   "display_name": "Python 3",
   "language": "python",
   "name": "python3"
  },
  "language_info": {
   "codemirror_mode": {
    "name": "ipython",
    "version": 3
   },
   "file_extension": ".py",
   "mimetype": "text/x-python",
   "name": "python",
   "nbconvert_exporter": "python",
   "pygments_lexer": "ipython3",
   "version": "3.8.8"
  }
 },
 "nbformat": 4,
 "nbformat_minor": 5
}
